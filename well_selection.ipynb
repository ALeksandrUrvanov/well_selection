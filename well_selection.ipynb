{
 "cells": [
  {
   "cell_type": "markdown",
   "metadata": {},
   "source": [
    "# Выбор локации для скважины"
   ]
  },
  {
   "cell_type": "markdown",
   "metadata": {},
   "source": [
    "Допустим, вы работаете в добывающей компании «ГлавРосГосНефть». Нужно решить, где бурить новую скважину.\n",
    "\n",
    "Вам предоставлены пробы нефти в трёх регионах: в каждом 10 000 месторождений, где измерили качество нефти и объём её запасов. Постройте модель машинного обучения, которая поможет определить регион, где добыча принесёт наибольшую прибыль. Проанализируйте возможную прибыль и риски техникой *Bootstrap.*\n",
    "\n",
    "Шаги для выбора локации:\n",
    "\n",
    "- В избранном регионе ищут месторождения, для каждого определяют значения признаков;\n",
    "- Строят модель и оценивают объём запасов;\n",
    "- Выбирают месторождения с самым высокими оценками значений. Количество месторождений зависит от бюджета компании и стоимости разработки одной скважины;\n",
    "- Прибыль равна суммарной прибыли отобранных месторождений."
   ]
  },
  {
   "cell_type": "markdown",
   "metadata": {},
   "source": [
    "## Загрузка и подготовка данных"
   ]
  },
  {
   "cell_type": "code",
   "execution_count": 1,
   "metadata": {},
   "outputs": [],
   "source": [
    "# выведем необходимые библиотеки для работы\n",
    "import pandas as pd\n",
    "import numpy as np\n",
    "import matplotlib.pyplot as plt\n",
    "from scipy import stats as st\n",
    "from sklearn.model_selection import train_test_split\n",
    "from sklearn.preprocessing import MinMaxScaler\n",
    "from sklearn.linear_model import LinearRegression\n",
    "from sklearn.metrics import mean_squared_error"
   ]
  },
  {
   "cell_type": "code",
   "execution_count": 2,
   "metadata": {},
   "outputs": [
    {
     "data": {
      "text/html": [
       "<div>\n",
       "<style scoped>\n",
       "    .dataframe tbody tr th:only-of-type {\n",
       "        vertical-align: middle;\n",
       "    }\n",
       "\n",
       "    .dataframe tbody tr th {\n",
       "        vertical-align: top;\n",
       "    }\n",
       "\n",
       "    .dataframe thead th {\n",
       "        text-align: right;\n",
       "    }\n",
       "</style>\n",
       "<table border=\"1\" class=\"dataframe\">\n",
       "  <thead>\n",
       "    <tr style=\"text-align: right;\">\n",
       "      <th></th>\n",
       "      <th>id</th>\n",
       "      <th>f0</th>\n",
       "      <th>f1</th>\n",
       "      <th>f2</th>\n",
       "      <th>product</th>\n",
       "    </tr>\n",
       "  </thead>\n",
       "  <tbody>\n",
       "    <tr>\n",
       "      <th>0</th>\n",
       "      <td>txEyH</td>\n",
       "      <td>0.705745</td>\n",
       "      <td>-0.497823</td>\n",
       "      <td>1.221170</td>\n",
       "      <td>105.280062</td>\n",
       "    </tr>\n",
       "    <tr>\n",
       "      <th>1</th>\n",
       "      <td>2acmU</td>\n",
       "      <td>1.334711</td>\n",
       "      <td>-0.340164</td>\n",
       "      <td>4.365080</td>\n",
       "      <td>73.037750</td>\n",
       "    </tr>\n",
       "    <tr>\n",
       "      <th>2</th>\n",
       "      <td>409Wp</td>\n",
       "      <td>1.022732</td>\n",
       "      <td>0.151990</td>\n",
       "      <td>1.419926</td>\n",
       "      <td>85.265647</td>\n",
       "    </tr>\n",
       "  </tbody>\n",
       "</table>\n",
       "</div>"
      ],
      "text/plain": [
       "      id        f0        f1        f2     product\n",
       "0  txEyH  0.705745 -0.497823  1.221170  105.280062\n",
       "1  2acmU  1.334711 -0.340164  4.365080   73.037750\n",
       "2  409Wp  1.022732  0.151990  1.419926   85.265647"
      ]
     },
     "metadata": {},
     "output_type": "display_data"
    },
    {
     "name": "stdout",
     "output_type": "stream",
     "text": [
      "<class 'pandas.core.frame.DataFrame'>\n",
      "RangeIndex: 100000 entries, 0 to 99999\n",
      "Data columns (total 5 columns):\n",
      " #   Column   Non-Null Count   Dtype  \n",
      "---  ------   --------------   -----  \n",
      " 0   id       100000 non-null  object \n",
      " 1   f0       100000 non-null  float64\n",
      " 2   f1       100000 non-null  float64\n",
      " 3   f2       100000 non-null  float64\n",
      " 4   product  100000 non-null  float64\n",
      "dtypes: float64(4), object(1)\n",
      "memory usage: 3.8+ MB\n",
      "\n"
     ]
    },
    {
     "data": {
      "text/html": [
       "<div>\n",
       "<style scoped>\n",
       "    .dataframe tbody tr th:only-of-type {\n",
       "        vertical-align: middle;\n",
       "    }\n",
       "\n",
       "    .dataframe tbody tr th {\n",
       "        vertical-align: top;\n",
       "    }\n",
       "\n",
       "    .dataframe thead th {\n",
       "        text-align: right;\n",
       "    }\n",
       "</style>\n",
       "<table border=\"1\" class=\"dataframe\">\n",
       "  <thead>\n",
       "    <tr style=\"text-align: right;\">\n",
       "      <th></th>\n",
       "      <th>id</th>\n",
       "      <th>f0</th>\n",
       "      <th>f1</th>\n",
       "      <th>f2</th>\n",
       "      <th>product</th>\n",
       "    </tr>\n",
       "  </thead>\n",
       "  <tbody>\n",
       "    <tr>\n",
       "      <th>0</th>\n",
       "      <td>kBEdx</td>\n",
       "      <td>-15.001348</td>\n",
       "      <td>-8.276000</td>\n",
       "      <td>-0.005876</td>\n",
       "      <td>3.179103</td>\n",
       "    </tr>\n",
       "    <tr>\n",
       "      <th>1</th>\n",
       "      <td>62mP7</td>\n",
       "      <td>14.272088</td>\n",
       "      <td>-3.475083</td>\n",
       "      <td>0.999183</td>\n",
       "      <td>26.953261</td>\n",
       "    </tr>\n",
       "    <tr>\n",
       "      <th>2</th>\n",
       "      <td>vyE1P</td>\n",
       "      <td>6.263187</td>\n",
       "      <td>-5.948386</td>\n",
       "      <td>5.001160</td>\n",
       "      <td>134.766305</td>\n",
       "    </tr>\n",
       "  </tbody>\n",
       "</table>\n",
       "</div>"
      ],
      "text/plain": [
       "      id         f0        f1        f2     product\n",
       "0  kBEdx -15.001348 -8.276000 -0.005876    3.179103\n",
       "1  62mP7  14.272088 -3.475083  0.999183   26.953261\n",
       "2  vyE1P   6.263187 -5.948386  5.001160  134.766305"
      ]
     },
     "metadata": {},
     "output_type": "display_data"
    },
    {
     "name": "stdout",
     "output_type": "stream",
     "text": [
      "<class 'pandas.core.frame.DataFrame'>\n",
      "RangeIndex: 100000 entries, 0 to 99999\n",
      "Data columns (total 5 columns):\n",
      " #   Column   Non-Null Count   Dtype  \n",
      "---  ------   --------------   -----  \n",
      " 0   id       100000 non-null  object \n",
      " 1   f0       100000 non-null  float64\n",
      " 2   f1       100000 non-null  float64\n",
      " 3   f2       100000 non-null  float64\n",
      " 4   product  100000 non-null  float64\n",
      "dtypes: float64(4), object(1)\n",
      "memory usage: 3.8+ MB\n",
      "\n"
     ]
    },
    {
     "data": {
      "text/html": [
       "<div>\n",
       "<style scoped>\n",
       "    .dataframe tbody tr th:only-of-type {\n",
       "        vertical-align: middle;\n",
       "    }\n",
       "\n",
       "    .dataframe tbody tr th {\n",
       "        vertical-align: top;\n",
       "    }\n",
       "\n",
       "    .dataframe thead th {\n",
       "        text-align: right;\n",
       "    }\n",
       "</style>\n",
       "<table border=\"1\" class=\"dataframe\">\n",
       "  <thead>\n",
       "    <tr style=\"text-align: right;\">\n",
       "      <th></th>\n",
       "      <th>id</th>\n",
       "      <th>f0</th>\n",
       "      <th>f1</th>\n",
       "      <th>f2</th>\n",
       "      <th>product</th>\n",
       "    </tr>\n",
       "  </thead>\n",
       "  <tbody>\n",
       "    <tr>\n",
       "      <th>0</th>\n",
       "      <td>fwXo0</td>\n",
       "      <td>-1.146987</td>\n",
       "      <td>0.963328</td>\n",
       "      <td>-0.828965</td>\n",
       "      <td>27.758673</td>\n",
       "    </tr>\n",
       "    <tr>\n",
       "      <th>1</th>\n",
       "      <td>WJtFt</td>\n",
       "      <td>0.262778</td>\n",
       "      <td>0.269839</td>\n",
       "      <td>-2.530187</td>\n",
       "      <td>56.069697</td>\n",
       "    </tr>\n",
       "    <tr>\n",
       "      <th>2</th>\n",
       "      <td>ovLUW</td>\n",
       "      <td>0.194587</td>\n",
       "      <td>0.289035</td>\n",
       "      <td>-5.586433</td>\n",
       "      <td>62.871910</td>\n",
       "    </tr>\n",
       "  </tbody>\n",
       "</table>\n",
       "</div>"
      ],
      "text/plain": [
       "      id        f0        f1        f2    product\n",
       "0  fwXo0 -1.146987  0.963328 -0.828965  27.758673\n",
       "1  WJtFt  0.262778  0.269839 -2.530187  56.069697\n",
       "2  ovLUW  0.194587  0.289035 -5.586433  62.871910"
      ]
     },
     "metadata": {},
     "output_type": "display_data"
    },
    {
     "name": "stdout",
     "output_type": "stream",
     "text": [
      "<class 'pandas.core.frame.DataFrame'>\n",
      "RangeIndex: 100000 entries, 0 to 99999\n",
      "Data columns (total 5 columns):\n",
      " #   Column   Non-Null Count   Dtype  \n",
      "---  ------   --------------   -----  \n",
      " 0   id       100000 non-null  object \n",
      " 1   f0       100000 non-null  float64\n",
      " 2   f1       100000 non-null  float64\n",
      " 3   f2       100000 non-null  float64\n",
      " 4   product  100000 non-null  float64\n",
      "dtypes: float64(4), object(1)\n",
      "memory usage: 3.8+ MB\n",
      "\n"
     ]
    }
   ],
   "source": [
    "# выводим информацию о данных трёх датафреймов \n",
    "df1 = pd.read_csv('/datasets/geo_data_0.csv')\n",
    "df2 = pd.read_csv('/datasets/geo_data_1.csv')\n",
    "df3 = pd.read_csv('/datasets/geo_data_2.csv')\n",
    "\n",
    "def info(df): \n",
    "    display(df.head(3))\n",
    "    df.info()\n",
    "    print()\n",
    "    \n",
    "for i in [df1, df2, df3]:\n",
    "    info(i)\n"
   ]
  },
  {
   "cell_type": "code",
   "execution_count": 3,
   "metadata": {},
   "outputs": [
    {
     "name": "stdout",
     "output_type": "stream",
     "text": [
      "10\n",
      "4\n",
      "4\n"
     ]
    }
   ],
   "source": [
    "# проверяем дубликаты в столбце 'id'\n",
    "def duplicate(df):\n",
    "    print(df['id'].duplicated().sum())\n",
    "for i in [df1, df2, df3]:\n",
    "    duplicate(i)   \n",
    "    "
   ]
  },
  {
   "cell_type": "code",
   "execution_count": 4,
   "metadata": {},
   "outputs": [],
   "source": [
    "# удаляем строки с дубликатами из столбца 'id'\n",
    "def drop(df):\n",
    "    df = df['id'].drop_duplicates().reset_index(drop=True)\n",
    "for i in [df1, df2, df3]:\n",
    "    drop(i)   "
   ]
  },
  {
   "cell_type": "code",
   "execution_count": 5,
   "metadata": {},
   "outputs": [],
   "source": [
    "# для удобства сделаем список датафреймов\n",
    "data_all = [ df1.drop('id', axis=1), df2.drop('id', axis=1), df3.drop('id', axis=1)]"
   ]
  },
  {
   "cell_type": "code",
   "execution_count": 6,
   "metadata": {},
   "outputs": [
    {
     "data": {
      "text/plain": [
       "id         0\n",
       "f0         0\n",
       "f1         0\n",
       "f2         0\n",
       "product    0\n",
       "dtype: int64"
      ]
     },
     "metadata": {},
     "output_type": "display_data"
    },
    {
     "data": {
      "text/plain": [
       "id         0\n",
       "f0         0\n",
       "f1         0\n",
       "f2         0\n",
       "product    0\n",
       "dtype: int64"
      ]
     },
     "metadata": {},
     "output_type": "display_data"
    },
    {
     "data": {
      "text/plain": [
       "id         0\n",
       "f0         0\n",
       "f1         0\n",
       "f2         0\n",
       "product    0\n",
       "dtype: int64"
      ]
     },
     "metadata": {},
     "output_type": "display_data"
    },
    {
     "data": {
      "text/plain": [
       "[None, None, None]"
      ]
     },
     "execution_count": 6,
     "metadata": {},
     "output_type": "execute_result"
    }
   ],
   "source": [
    "# проверяем наличие пропусков в данных\n",
    "[display(data_all.isna().sum()) for data_all in [df1, df2, df3]]"
   ]
  },
  {
   "cell_type": "code",
   "execution_count": 7,
   "metadata": {},
   "outputs": [
    {
     "data": {
      "text/plain": [
       "0"
      ]
     },
     "metadata": {},
     "output_type": "display_data"
    },
    {
     "data": {
      "text/plain": [
       "0"
      ]
     },
     "metadata": {},
     "output_type": "display_data"
    },
    {
     "data": {
      "text/plain": [
       "0"
      ]
     },
     "metadata": {},
     "output_type": "display_data"
    },
    {
     "data": {
      "text/plain": [
       "[None, None, None]"
      ]
     },
     "execution_count": 7,
     "metadata": {},
     "output_type": "execute_result"
    }
   ],
   "source": [
    "# проверяем данные на наличие дубликатов\n",
    "[display(data_all.duplicated().sum()) for data_all in [df1, df2, df3]]\n"
   ]
  },
  {
   "cell_type": "code",
   "execution_count": 8,
   "metadata": {},
   "outputs": [
    {
     "data": {
      "text/html": [
       "<div>\n",
       "<style scoped>\n",
       "    .dataframe tbody tr th:only-of-type {\n",
       "        vertical-align: middle;\n",
       "    }\n",
       "\n",
       "    .dataframe tbody tr th {\n",
       "        vertical-align: top;\n",
       "    }\n",
       "\n",
       "    .dataframe thead th {\n",
       "        text-align: right;\n",
       "    }\n",
       "</style>\n",
       "<table border=\"1\" class=\"dataframe\">\n",
       "  <thead>\n",
       "    <tr style=\"text-align: right;\">\n",
       "      <th></th>\n",
       "      <th>f0</th>\n",
       "      <th>f1</th>\n",
       "      <th>f2</th>\n",
       "      <th>product</th>\n",
       "    </tr>\n",
       "  </thead>\n",
       "  <tbody>\n",
       "    <tr>\n",
       "      <th>f0</th>\n",
       "      <td>1.000</td>\n",
       "      <td>-0.441</td>\n",
       "      <td>-0.003</td>\n",
       "      <td>0.144</td>\n",
       "    </tr>\n",
       "    <tr>\n",
       "      <th>f1</th>\n",
       "      <td>-0.441</td>\n",
       "      <td>1.000</td>\n",
       "      <td>0.002</td>\n",
       "      <td>-0.192</td>\n",
       "    </tr>\n",
       "    <tr>\n",
       "      <th>f2</th>\n",
       "      <td>-0.003</td>\n",
       "      <td>0.002</td>\n",
       "      <td>1.000</td>\n",
       "      <td>0.484</td>\n",
       "    </tr>\n",
       "    <tr>\n",
       "      <th>product</th>\n",
       "      <td>0.144</td>\n",
       "      <td>-0.192</td>\n",
       "      <td>0.484</td>\n",
       "      <td>1.000</td>\n",
       "    </tr>\n",
       "  </tbody>\n",
       "</table>\n",
       "</div>"
      ],
      "text/plain": [
       "            f0     f1     f2  product\n",
       "f0       1.000 -0.441 -0.003    0.144\n",
       "f1      -0.441  1.000  0.002   -0.192\n",
       "f2      -0.003  0.002  1.000    0.484\n",
       "product  0.144 -0.192  0.484    1.000"
      ]
     },
     "metadata": {},
     "output_type": "display_data"
    },
    {
     "data": {
      "text/html": [
       "<div>\n",
       "<style scoped>\n",
       "    .dataframe tbody tr th:only-of-type {\n",
       "        vertical-align: middle;\n",
       "    }\n",
       "\n",
       "    .dataframe tbody tr th {\n",
       "        vertical-align: top;\n",
       "    }\n",
       "\n",
       "    .dataframe thead th {\n",
       "        text-align: right;\n",
       "    }\n",
       "</style>\n",
       "<table border=\"1\" class=\"dataframe\">\n",
       "  <thead>\n",
       "    <tr style=\"text-align: right;\">\n",
       "      <th></th>\n",
       "      <th>f0</th>\n",
       "      <th>f1</th>\n",
       "      <th>f2</th>\n",
       "      <th>product</th>\n",
       "    </tr>\n",
       "  </thead>\n",
       "  <tbody>\n",
       "    <tr>\n",
       "      <th>f0</th>\n",
       "      <td>1.000</td>\n",
       "      <td>0.182</td>\n",
       "      <td>-0.002</td>\n",
       "      <td>-0.030</td>\n",
       "    </tr>\n",
       "    <tr>\n",
       "      <th>f1</th>\n",
       "      <td>0.182</td>\n",
       "      <td>1.000</td>\n",
       "      <td>-0.003</td>\n",
       "      <td>-0.010</td>\n",
       "    </tr>\n",
       "    <tr>\n",
       "      <th>f2</th>\n",
       "      <td>-0.002</td>\n",
       "      <td>-0.003</td>\n",
       "      <td>1.000</td>\n",
       "      <td>0.999</td>\n",
       "    </tr>\n",
       "    <tr>\n",
       "      <th>product</th>\n",
       "      <td>-0.030</td>\n",
       "      <td>-0.010</td>\n",
       "      <td>0.999</td>\n",
       "      <td>1.000</td>\n",
       "    </tr>\n",
       "  </tbody>\n",
       "</table>\n",
       "</div>"
      ],
      "text/plain": [
       "            f0     f1     f2  product\n",
       "f0       1.000  0.182 -0.002   -0.030\n",
       "f1       0.182  1.000 -0.003   -0.010\n",
       "f2      -0.002 -0.003  1.000    0.999\n",
       "product -0.030 -0.010  0.999    1.000"
      ]
     },
     "metadata": {},
     "output_type": "display_data"
    },
    {
     "data": {
      "text/html": [
       "<div>\n",
       "<style scoped>\n",
       "    .dataframe tbody tr th:only-of-type {\n",
       "        vertical-align: middle;\n",
       "    }\n",
       "\n",
       "    .dataframe tbody tr th {\n",
       "        vertical-align: top;\n",
       "    }\n",
       "\n",
       "    .dataframe thead th {\n",
       "        text-align: right;\n",
       "    }\n",
       "</style>\n",
       "<table border=\"1\" class=\"dataframe\">\n",
       "  <thead>\n",
       "    <tr style=\"text-align: right;\">\n",
       "      <th></th>\n",
       "      <th>f0</th>\n",
       "      <th>f1</th>\n",
       "      <th>f2</th>\n",
       "      <th>product</th>\n",
       "    </tr>\n",
       "  </thead>\n",
       "  <tbody>\n",
       "    <tr>\n",
       "      <th>f0</th>\n",
       "      <td>1.000</td>\n",
       "      <td>0.001</td>\n",
       "      <td>-0.000</td>\n",
       "      <td>-0.002</td>\n",
       "    </tr>\n",
       "    <tr>\n",
       "      <th>f1</th>\n",
       "      <td>0.001</td>\n",
       "      <td>1.000</td>\n",
       "      <td>0.001</td>\n",
       "      <td>-0.001</td>\n",
       "    </tr>\n",
       "    <tr>\n",
       "      <th>f2</th>\n",
       "      <td>-0.000</td>\n",
       "      <td>0.001</td>\n",
       "      <td>1.000</td>\n",
       "      <td>0.446</td>\n",
       "    </tr>\n",
       "    <tr>\n",
       "      <th>product</th>\n",
       "      <td>-0.002</td>\n",
       "      <td>-0.001</td>\n",
       "      <td>0.446</td>\n",
       "      <td>1.000</td>\n",
       "    </tr>\n",
       "  </tbody>\n",
       "</table>\n",
       "</div>"
      ],
      "text/plain": [
       "            f0     f1     f2  product\n",
       "f0       1.000  0.001 -0.000   -0.002\n",
       "f1       0.001  1.000  0.001   -0.001\n",
       "f2      -0.000  0.001  1.000    0.446\n",
       "product -0.002 -0.001  0.446    1.000"
      ]
     },
     "metadata": {},
     "output_type": "display_data"
    },
    {
     "data": {
      "text/plain": [
       "[None, None, None]"
      ]
     },
     "execution_count": 8,
     "metadata": {},
     "output_type": "execute_result"
    }
   ],
   "source": [
    "# выведем матрицу корреляций коэффициента Пирсона\n",
    "[display(data_all.corr().round(3).head()) for data_all in [df1, df2, df3]]\n",
    "       "
   ]
  },
  {
   "cell_type": "code",
   "execution_count": 9,
   "metadata": {},
   "outputs": [
    {
     "data": {
      "text/plain": [
       "array([[<AxesSubplot:title={'center':'f0'}>,\n",
       "        <AxesSubplot:title={'center':'f1'}>],\n",
       "       [<AxesSubplot:title={'center':'f2'}>, <AxesSubplot:>]],\n",
       "      dtype=object)"
      ]
     },
     "metadata": {},
     "output_type": "display_data"
    },
    {
     "data": {
      "text/plain": [
       "array([[<AxesSubplot:title={'center':'f0'}>,\n",
       "        <AxesSubplot:title={'center':'f1'}>],\n",
       "       [<AxesSubplot:title={'center':'f2'}>, <AxesSubplot:>]],\n",
       "      dtype=object)"
      ]
     },
     "metadata": {},
     "output_type": "display_data"
    },
    {
     "data": {
      "text/plain": [
       "array([[<AxesSubplot:title={'center':'f0'}>,\n",
       "        <AxesSubplot:title={'center':'f1'}>],\n",
       "       [<AxesSubplot:title={'center':'f2'}>, <AxesSubplot:>]],\n",
       "      dtype=object)"
      ]
     },
     "metadata": {},
     "output_type": "display_data"
    },
    {
     "data": {
      "text/plain": [
       "[None, None, None]"
      ]
     },
     "execution_count": 9,
     "metadata": {},
     "output_type": "execute_result"
    },
    {
     "data": {
      "image/png": "[encoded data removed]",
      "text/plain": [
       "<Figure size 432x288 with 4 Axes>"
      ]
     },
     "metadata": {
      "needs_background": "light"
     },
     "output_type": "display_data"
    },
    {
     "data": {
      "image/png": "[encoded data removed]",
      "text/plain": [
       "<Figure size 432x288 with 4 Axes>"
      ]
     },
     "metadata": {
      "needs_background": "light"
     },
     "output_type": "display_data"
    },
    {
     "data": {
      "image/png": "[encoded data removed]",
      "text/plain": [
       "<Figure size 432x288 with 4 Axes>"
      ]
     },
     "metadata": {
      "needs_background": "light"
     },
     "output_type": "display_data"
    }
   ],
   "source": [
    "# выведем рааспределение признаков\n",
    "[display(data_all[[\"f0\",\"f1\",\"f2\"]].hist()) for data_all in [df1, df2, df3]]\n"
   ]
  },
  {
   "cell_type": "markdown",
   "metadata": {},
   "source": [
    "### Вывод"
   ]
  },
  {
   "cell_type": "markdown",
   "metadata": {},
   "source": [
    "Данные изучены. В детафреймах нет пропусков, немногочисленные дубликаты были удалены. Выявлена корреляция данных. Данные распределены близко к нормальному распределению и готовы к обученению и проверке модели.   "
   ]
  },
  {
   "cell_type": "markdown",
   "metadata": {},
   "source": [
    "## Обучение и проверка модели"
   ]
  },
  {
   "cell_type": "code",
   "execution_count": 10,
   "metadata": {},
   "outputs": [],
   "source": [
    "# создаём функцию, принимающая на вход датафрейм\n",
    "def split_and_train(df):\n",
    "    \n",
    "# извлекаем целевой признак\n",
    "    target = df[\"product\"]\n",
    "    \n",
    "# извлекаем признаки\n",
    "    features = df.drop([\"product\",\"id\"], axis=1)\n",
    "\n",
    "# выделяем 75% данных для обучающей выборки, остальные данные для валидационной\n",
    "    features_train, features_valid, target_train, target_valid = train_test_split(\n",
    "        features, target, test_size = 0.25, random_state = 12345)\n",
    "    \n",
    "# создадим объект структуры и настроим его на обучающих данных\n",
    "    scaler = MinMaxScaler()\n",
    "    features_train = scaler.fit_transform(features_train)\n",
    "    features_valid = scaler.transform(features_valid)\n",
    "\n",
    "# инициализируем модель LinearRegression  \n",
    "    model = LinearRegression() \n",
    "    model.fit(features_train, target_train) \n",
    "    predictions = model.predict(features_valid)\n",
    "    predictions = pd.Series(predictions)\n",
    "\n",
    "# посчитаем значение метрики RMSE\n",
    "    rmse = (mean_squared_error(target_valid, predictions)) ** 0.5\n",
    "    \n",
    "# посчитаем средний запас предсказанного сырья  \n",
    "    average_product = sum(predictions) / len(predictions)\n",
    "    \n",
    "    display(\"RMSE: {0:.1f}\".format(rmse)) \n",
    "    display(\"Средний обьём сырья: {0:.1f} тыс. баррелей\".format(average_product))\n",
    "    \n",
    "    return (target_valid.reset_index(drop=True), predictions, rmse)\n"
   ]
  },
  {
   "cell_type": "code",
   "execution_count": 11,
   "metadata": {},
   "outputs": [
    {
     "name": "stdout",
     "output_type": "stream",
     "text": [
      "Регион 1:\n"
     ]
    },
    {
     "data": {
      "text/plain": [
       "'RMSE: 37.6'"
      ]
     },
     "metadata": {},
     "output_type": "display_data"
    },
    {
     "data": {
      "text/plain": [
       "'Средний обьём сырья: 92.6 тыс. баррелей'"
      ]
     },
     "metadata": {},
     "output_type": "display_data"
    },
    {
     "name": "stdout",
     "output_type": "stream",
     "text": [
      "\n",
      "Регион 2:\n"
     ]
    },
    {
     "data": {
      "text/plain": [
       "'RMSE: 0.9'"
      ]
     },
     "metadata": {},
     "output_type": "display_data"
    },
    {
     "data": {
      "text/plain": [
       "'Средний обьём сырья: 68.7 тыс. баррелей'"
      ]
     },
     "metadata": {},
     "output_type": "display_data"
    },
    {
     "name": "stdout",
     "output_type": "stream",
     "text": [
      "\n",
      "Регион 3:\n"
     ]
    },
    {
     "data": {
      "text/plain": [
       "'RMSE: 40.0'"
      ]
     },
     "metadata": {},
     "output_type": "display_data"
    },
    {
     "data": {
      "text/plain": [
       "'Средний обьём сырья: 95.0 тыс. баррелей'"
      ]
     },
     "metadata": {},
     "output_type": "display_data"
    },
    {
     "name": "stdout",
     "output_type": "stream",
     "text": [
      "\n"
     ]
    }
   ],
   "source": [
    "# через цикл прогоним каждый датафрейм\n",
    "i = 1\n",
    "for region in [df1, df2, df3]:\n",
    "    print(f\"Регион {i}:\")\n",
    "    split_and_train(region)\n",
    "    print()\n",
    "    i+=1"
   ]
  },
  {
   "cell_type": "code",
   "execution_count": 12,
   "metadata": {
    "scrolled": true
   },
   "outputs": [
    {
     "data": {
      "text/plain": [
       "'RMSE: 37.6'"
      ]
     },
     "metadata": {},
     "output_type": "display_data"
    },
    {
     "data": {
      "text/plain": [
       "'Средний обьём сырья: 92.6 тыс. баррелей'"
      ]
     },
     "metadata": {},
     "output_type": "display_data"
    },
    {
     "data": {
      "text/plain": [
       "'RMSE: 0.9'"
      ]
     },
     "metadata": {},
     "output_type": "display_data"
    },
    {
     "data": {
      "text/plain": [
       "'Средний обьём сырья: 68.7 тыс. баррелей'"
      ]
     },
     "metadata": {},
     "output_type": "display_data"
    },
    {
     "data": {
      "text/plain": [
       "'RMSE: 40.0'"
      ]
     },
     "metadata": {},
     "output_type": "display_data"
    },
    {
     "data": {
      "text/plain": [
       "'Средний обьём сырья: 95.0 тыс. баррелей'"
      ]
     },
     "metadata": {},
     "output_type": "display_data"
    }
   ],
   "source": [
    "# cохраним предсказания, правильные ответы и RMSE на валидационной выборке\n",
    "target_valid_1, predictions_1, rmse_1 = split_and_train(df1)\n",
    "target_valid_2, predictions_2, rmse_2 = split_and_train(df2)\n",
    "target_valid_3, predictions_3, rmse_3 = split_and_train(df3)"
   ]
  },
  {
   "cell_type": "markdown",
   "metadata": {},
   "source": [
    "### Вывод"
   ]
  },
  {
   "cell_type": "markdown",
   "metadata": {},
   "source": [
    "Лучший показатель RMSE = 0.89 у 2 региона, получается данная модель может лучше \"соответствовать\" набору даннных, при этом показатель среднего запаса сырья скважины меньше.  В остальных регионах RMSE в разы больше, что хуже, но больше значение среднего запаса сырья. Произведём расчёт прибыли и рисков."
   ]
  },
  {
   "cell_type": "markdown",
   "metadata": {},
   "source": [
    "## Подготовка к расчёту прибыли"
   ]
  },
  {
   "cell_type": "markdown",
   "metadata": {},
   "source": [
    "При разведке региона исследуюем 500 точек, из которых с помощью машинного обучения выберем 200 лучших для разработки.\n",
    "Бюджет на разработку скважин в регионе — 10 млрд рублей.\n",
    "При нынешних ценах один баррель сырья приносит 450 рублей дохода. Доход с каждой барреля составляет 450 тыс.\n",
    "рублей.\n",
    "После оценки рисков оставим лишь те регионы, в которых вероятность убытков меньше 2.5%. Среди них выберем регион с наибольшей средней прибылью."
   ]
  },
  {
   "cell_type": "code",
   "execution_count": 13,
   "metadata": {},
   "outputs": [
    {
     "name": "stdout",
     "output_type": "stream",
     "text": [
      "Бюджет на разработку одной скважины: 50 млн. руб\n",
      "Объём сырья для безубыточной разработки новой скважины: 111.1 тыс. баррелей\n"
     ]
    }
   ],
   "source": [
    "# доход с одного барреля \n",
    "INCOME_PER_BARREL = 450000/10**6 \n",
    "\n",
    "# бюджет для разработки 200 скважин\n",
    "BUDGET = 10000000000/10**6\n",
    "\n",
    "# количество скважин исследования\n",
    "ALL_COUNT = 500\n",
    "\n",
    "# количество скважин после машинного обучения\n",
    "COUNT = 200\n",
    "\n",
    "# техника Bootstrap с 1000 выборок\n",
    "BOOTSTRAP_NUMBER = 1000\n",
    "\n",
    "# бюджет для разработки одной скважины\n",
    "print('Бюджет на разработку одной скважины:', int(BUDGET / 200), 'млн. руб')\n",
    "\n",
    "# рассчитаем достаточный объём сырья для безубыточной разработки новой скважины\n",
    "v_profit = int(BUDGET / 200) / INCOME_PER_BARREL\n",
    "print(\"Объём сырья для безубыточной разработки новой скважины: {0:.1f} тыс. баррелей\".format(v_profit))\n",
    "     "
   ]
  },
  {
   "cell_type": "markdown",
   "metadata": {},
   "source": [
    "### Вывод"
   ]
  },
  {
   "cell_type": "markdown",
   "metadata": {},
   "source": [
    "Среднее значение объёма скважины:\n",
    "- 1 регион - 92.6 тыс. баррелей,\n",
    "- 2 регион - 68.7 тыс. баррелей,\n",
    "- 3 регион - 95.0 тыс. баррелей.\n",
    "\n",
    "\n",
    "Для безубыточной разработки новой скважины необходимо минимум 111.1 тыс. баррелей с одной скважины. Ни один регион по средней недотягивает до безубыточного значения. Для определения нужного (прибыльного) региона необходимо расчетать общую и среднюю прибыль скважин с максимальными значениями предсказаний."
   ]
  },
  {
   "cell_type": "markdown",
   "metadata": {},
   "source": [
    "## Расчёт прибыли и рисков "
   ]
  },
  {
   "cell_type": "code",
   "execution_count": 14,
   "metadata": {},
   "outputs": [],
   "source": [
    "# функция для расчёта прибыли по выбранным скважинам и предсказаниям модели\n",
    "def revenue(target, predictions, COUNT):\n",
    "    preds_sorted = predictions.sort_values(ascending=False)\n",
    "    selected = target[preds_sorted.index][:COUNT]\n",
    "    return int(INCOME_PER_BARREL * selected.sum() - BUDGET)"
   ]
  },
  {
   "cell_type": "code",
   "execution_count": 15,
   "metadata": {},
   "outputs": [
    {
     "name": "stdout",
     "output_type": "stream",
     "text": [
      "Прибыль в первом регионе : 3320 млн. руб\n",
      "Прибыль во втором регионе : 2415 млн. руб\n",
      "Прибыль в третьем регионе : 2710 млн. руб\n"
     ]
    }
   ],
   "source": [
    "# прибыль в первых двухстах скважинах с максимальными значениями предсказаний\n",
    "print('Прибыль в первом регионе :', revenue(target_valid_1, predictions_1, COUNT), 'млн. руб')\n",
    "print('Прибыль во втором регионе :', revenue(target_valid_2, predictions_2, COUNT), 'млн. руб')\n",
    "print('Прибыль в третьем регионе :', revenue(target_valid_3, predictions_3, COUNT), 'млн. руб')\n"
   ]
  },
  {
   "cell_type": "code",
   "execution_count": 16,
   "metadata": {},
   "outputs": [
    {
     "name": "stdout",
     "output_type": "stream",
     "text": [
      "Вывод:\n",
      "Первый регион\n",
      "Средняя расчётная прибыль: 395.7 млн. руб\n",
      "95%-доверительный интервал: от -111 млн. руб до 909 млн. руб\n",
      "Вероятность убытков: 6.9 %\n",
      "Вывод:\n",
      "Второй регион\n",
      "Средняя расчётная прибыль: 460.7 млн. руб\n",
      "95%-доверительный интервал: от 78 млн. руб до 862 млн. руб\n",
      "Вероятность убытков: 0.7 %\n",
      "Вывод:\n",
      "Третий регион\n",
      "Средняя расчётная прибыль: 392.5 млн. руб\n",
      "95%-доверительный интервал: от -112 млн. руб до 934 млн. руб\n",
      "Вероятность убытков: 6.5 %\n"
     ]
    }
   ],
   "source": [
    "# создаём цикл для расчёта средней прибыли и риска\n",
    "target = [target_valid_1, target_valid_2, target_valid_3]\n",
    "predictions = [predictions_1, predictions_2, predictions_3]\n",
    "regions = ['Первый регион', 'Второй регион', 'Третий регион']\n",
    "\n",
    "state = np.random.RandomState(12345)\n",
    "\n",
    "for j in range(len(target)):\n",
    "    values = []\n",
    "    for i in range(BOOTSTRAP_NUMBER):\n",
    "        target_subsample = target[j].sample(n=ALL_COUNT, replace=True, random_state=state)\n",
    "        predictions_subsample = predictions[j].loc[target_subsample.index]\n",
    "        values.append(revenue(target_subsample.reset_index(drop=True),\n",
    "                predictions_subsample.reset_index(drop=True), COUNT))\n",
    "\n",
    "    values = pd.Series(values)\n",
    "    lower = values.quantile(.025)\n",
    "    upper = values.quantile(.975)\n",
    "\n",
    "    mean = values.mean()\n",
    "    \n",
    "    loss_probability = sum(values < 0) / values.count()* 100\n",
    "    \n",
    "    \n",
    "    print('Вывод:')\n",
    "    print(regions[j])\n",
    "    print(\"Средняя расчётная прибыль: {0:.1f}\". format(mean), 'млн. руб')\n",
    "    print(\"95%-доверительный интервал: от {0:.0f}\".format(lower), \n",
    "          \"млн. руб до {0:.0f}\".format(upper), 'млн. руб')\n",
    "    print(\"Вероятность убытков: {0:.1f}\".format(loss_probability), \"%\")\n",
    "    \n",
    "\n",
    "\n"
   ]
  },
  {
   "cell_type": "markdown",
   "metadata": {},
   "source": [
    "### Вывод"
   ]
  },
  {
   "cell_type": "markdown",
   "metadata": {},
   "source": [
    "\n",
    "В начале мы провели исследовательский анализ данных, проверили датафреймы на наличие пропусков, дупликатов, а также посмотрели на распределения признаков, которые, в общем, оказались распределены нормально. Построили модель линейной регрессии для предсказания объемов сырья в скважинах.\n",
    "\n",
    "Среднее значение объёма скважин:\n",
    "- Первый регион - 92.6 тыс. баррелей,\n",
    "- Второй регион - 68.7 тыс. баррелей,\n",
    "- Третий регион - 95.0 тыс. баррелей.\n",
    "\n",
    "Наиболее точные предсказания оказались у модели второго региона: средний запас сырья в скважине 68.7 тыс. баррелей при отклонении 0.89, предсказания по первому и третьему региону получились схожими между собой.\n",
    "Рассчитан достаточный объём сырья для безубыточной разработки новой скважины 111.1 тыс. баррелей с одной скважины.\n",
    "____\n",
    "Для расчёта распределения прибыли применена техника Bootstrap с 1000 выборок, которая показала, что наиболее подходящий для разработки регион - второй, так как у него наименьшая вероятность убытков и наибольшая средняя возможная прибыль.\n",
    "\n",
    "\n",
    "\n",
    "\n",
    "\n",
    "\n",
    "\n",
    "\n",
    "\n",
    "\n"
   ]
  }
 ],
 "metadata": {
  "ExecuteTimeLog": [
   {
    "duration": 1482,
    "start_time": "2023-02-10T12:01:23.856Z"
   },
   {
    "duration": 901,
    "start_time": "2023-02-10T12:04:37.182Z"
   },
   {
    "duration": 385,
    "start_time": "2023-02-10T12:06:07.298Z"
   },
   {
    "duration": 342,
    "start_time": "2023-02-10T12:06:21.639Z"
   },
   {
    "duration": 356,
    "start_time": "2023-02-10T12:06:38.450Z"
   },
   {
    "duration": 351,
    "start_time": "2023-02-10T12:06:43.769Z"
   },
   {
    "duration": 5,
    "start_time": "2023-02-10T12:06:55.053Z"
   },
   {
    "duration": 341,
    "start_time": "2023-02-10T12:06:55.530Z"
   },
   {
    "duration": 374,
    "start_time": "2023-02-10T12:07:26.979Z"
   },
   {
    "duration": 36,
    "start_time": "2023-02-10T12:08:11.498Z"
   },
   {
    "duration": 36,
    "start_time": "2023-02-10T12:08:29.316Z"
   },
   {
    "duration": 33,
    "start_time": "2023-02-10T12:08:38.822Z"
   },
   {
    "duration": 387,
    "start_time": "2023-02-10T12:09:41.982Z"
   },
   {
    "duration": 28,
    "start_time": "2023-02-10T12:23:50.952Z"
   },
   {
    "duration": 24,
    "start_time": "2023-02-10T12:24:20.956Z"
   },
   {
    "duration": 153,
    "start_time": "2023-02-10T12:25:27.397Z"
   },
   {
    "duration": 25,
    "start_time": "2023-02-10T13:21:16.306Z"
   },
   {
    "duration": 39,
    "start_time": "2023-02-10T13:21:57.179Z"
   },
   {
    "duration": 44,
    "start_time": "2023-02-10T13:22:08.973Z"
   },
   {
    "duration": 63,
    "start_time": "2023-02-10T13:22:32.055Z"
   },
   {
    "duration": 113,
    "start_time": "2023-02-10T13:53:12.678Z"
   },
   {
    "duration": 12,
    "start_time": "2023-02-10T13:53:48.429Z"
   },
   {
    "duration": 20,
    "start_time": "2023-02-10T13:53:53.975Z"
   },
   {
    "duration": 11,
    "start_time": "2023-02-10T13:54:08.883Z"
   },
   {
    "duration": 15,
    "start_time": "2023-02-10T14:10:52.253Z"
   },
   {
    "duration": 57,
    "start_time": "2023-02-10T14:13:02.795Z"
   },
   {
    "duration": 11,
    "start_time": "2023-02-10T14:13:24.291Z"
   },
   {
    "duration": 8,
    "start_time": "2023-02-10T14:13:59.788Z"
   },
   {
    "duration": 48,
    "start_time": "2023-02-10T14:14:31.771Z"
   },
   {
    "duration": 69,
    "start_time": "2023-02-10T14:14:46.676Z"
   },
   {
    "duration": 21,
    "start_time": "2023-02-10T14:16:29.963Z"
   },
   {
    "duration": 42,
    "start_time": "2023-02-10T14:16:58.417Z"
   },
   {
    "duration": 55,
    "start_time": "2023-02-10T14:17:22.812Z"
   },
   {
    "duration": 52,
    "start_time": "2023-02-10T14:17:33.505Z"
   },
   {
    "duration": 60,
    "start_time": "2023-02-10T14:17:42.369Z"
   },
   {
    "duration": 931,
    "start_time": "2023-02-10T14:19:21.948Z"
   },
   {
    "duration": 451,
    "start_time": "2023-02-10T14:19:38.288Z"
   },
   {
    "duration": 440,
    "start_time": "2023-02-10T14:20:01.993Z"
   },
   {
    "duration": 25,
    "start_time": "2023-02-10T14:21:27.721Z"
   },
   {
    "duration": 4,
    "start_time": "2023-02-10T14:23:54.546Z"
   },
   {
    "duration": 389,
    "start_time": "2023-02-10T14:23:55.897Z"
   },
   {
    "duration": 56,
    "start_time": "2023-02-10T14:24:33.621Z"
   },
   {
    "duration": 24,
    "start_time": "2023-02-10T14:25:44.977Z"
   },
   {
    "duration": 140,
    "start_time": "2023-02-10T14:26:22.983Z"
   },
   {
    "duration": 46,
    "start_time": "2023-02-10T14:28:54.125Z"
   },
   {
    "duration": 48,
    "start_time": "2023-02-10T14:29:02.145Z"
   },
   {
    "duration": 1195,
    "start_time": "2023-02-10T14:47:27.054Z"
   },
   {
    "duration": 44,
    "start_time": "2023-02-10T14:48:05.457Z"
   },
   {
    "duration": 1016,
    "start_time": "2023-02-10T14:49:41.070Z"
   },
   {
    "duration": 318,
    "start_time": "2023-02-10T14:49:59.531Z"
   },
   {
    "duration": 1075,
    "start_time": "2023-02-10T14:50:12.064Z"
   },
   {
    "duration": 813,
    "start_time": "2023-02-10T14:54:14.661Z"
   },
   {
    "duration": 790,
    "start_time": "2023-02-10T14:58:57.514Z"
   },
   {
    "duration": 10,
    "start_time": "2023-02-10T15:00:57.214Z"
   },
   {
    "duration": 10,
    "start_time": "2023-02-10T15:01:08.274Z"
   },
   {
    "duration": 9,
    "start_time": "2023-02-10T15:02:01.961Z"
   },
   {
    "duration": 6,
    "start_time": "2023-02-10T15:32:03.630Z"
   },
   {
    "duration": 2333,
    "start_time": "2023-02-10T15:34:15.898Z"
   },
   {
    "duration": 798,
    "start_time": "2023-02-10T15:34:18.232Z"
   },
   {
    "duration": 13,
    "start_time": "2023-02-10T15:34:19.032Z"
   },
   {
    "duration": 83,
    "start_time": "2023-02-10T15:34:19.047Z"
   },
   {
    "duration": 293,
    "start_time": "2023-02-10T15:34:19.132Z"
   },
   {
    "duration": 103,
    "start_time": "2023-02-10T15:34:19.427Z"
   },
   {
    "duration": 1720,
    "start_time": "2023-02-10T15:34:19.532Z"
   },
   {
    "duration": 56,
    "start_time": "2023-02-10T15:34:21.254Z"
   },
   {
    "duration": 6,
    "start_time": "2023-02-10T15:57:22.897Z"
   },
   {
    "duration": 421,
    "start_time": "2023-02-10T15:59:12.262Z"
   },
   {
    "duration": 1325,
    "start_time": "2023-02-10T16:00:28.061Z"
   },
   {
    "duration": 461,
    "start_time": "2023-02-10T16:00:29.388Z"
   },
   {
    "duration": 12,
    "start_time": "2023-02-10T16:00:29.851Z"
   },
   {
    "duration": 47,
    "start_time": "2023-02-10T16:00:29.866Z"
   },
   {
    "duration": 149,
    "start_time": "2023-02-10T16:00:29.915Z"
   },
   {
    "duration": 68,
    "start_time": "2023-02-10T16:00:30.066Z"
   },
   {
    "duration": 869,
    "start_time": "2023-02-10T16:00:30.136Z"
   },
   {
    "duration": 6,
    "start_time": "2023-02-10T16:00:31.009Z"
   },
   {
    "duration": 375,
    "start_time": "2023-02-10T16:00:31.016Z"
   },
   {
    "duration": 8,
    "start_time": "2023-02-10T16:00:51.550Z"
   },
   {
    "duration": 416,
    "start_time": "2023-02-10T16:00:53.106Z"
   },
   {
    "duration": 398,
    "start_time": "2023-02-10T16:01:47.830Z"
   },
   {
    "duration": 228,
    "start_time": "2023-02-10T16:02:51.382Z"
   },
   {
    "duration": 1359,
    "start_time": "2023-02-10T16:06:29.224Z"
   },
   {
    "duration": 448,
    "start_time": "2023-02-10T16:06:30.585Z"
   },
   {
    "duration": 11,
    "start_time": "2023-02-10T16:06:31.035Z"
   },
   {
    "duration": 36,
    "start_time": "2023-02-10T16:06:31.048Z"
   },
   {
    "duration": 159,
    "start_time": "2023-02-10T16:06:31.085Z"
   },
   {
    "duration": 49,
    "start_time": "2023-02-10T16:06:31.246Z"
   },
   {
    "duration": 871,
    "start_time": "2023-02-10T16:06:31.310Z"
   },
   {
    "duration": 6,
    "start_time": "2023-02-10T16:06:32.182Z"
   },
   {
    "duration": 546,
    "start_time": "2023-02-10T16:06:32.189Z"
   },
   {
    "duration": 5,
    "start_time": "2023-02-10T16:07:34.494Z"
   },
   {
    "duration": 516,
    "start_time": "2023-02-10T16:07:34.999Z"
   },
   {
    "duration": 446,
    "start_time": "2023-02-10T16:08:17.873Z"
   },
   {
    "duration": 5,
    "start_time": "2023-02-10T16:09:14.157Z"
   },
   {
    "duration": 286,
    "start_time": "2023-02-10T16:09:14.754Z"
   },
   {
    "duration": 363,
    "start_time": "2023-02-10T16:09:23.965Z"
   },
   {
    "duration": 393,
    "start_time": "2023-02-10T16:11:30.325Z"
   },
   {
    "duration": 3,
    "start_time": "2023-02-10T18:02:08.382Z"
   },
   {
    "duration": 3,
    "start_time": "2023-02-10T19:44:38.033Z"
   },
   {
    "duration": 3,
    "start_time": "2023-02-10T19:44:52.915Z"
   },
   {
    "duration": 3,
    "start_time": "2023-02-10T19:45:20.376Z"
   },
   {
    "duration": 74,
    "start_time": "2023-02-10T20:50:19.133Z"
   },
   {
    "duration": 4,
    "start_time": "2023-02-10T20:50:38.721Z"
   },
   {
    "duration": 4,
    "start_time": "2023-02-10T20:50:58.825Z"
   },
   {
    "duration": 4,
    "start_time": "2023-02-10T20:52:27.370Z"
   },
   {
    "duration": 4,
    "start_time": "2023-02-10T20:52:34.045Z"
   },
   {
    "duration": 3,
    "start_time": "2023-02-10T20:52:38.598Z"
   },
   {
    "duration": 4,
    "start_time": "2023-02-10T20:52:46.801Z"
   },
   {
    "duration": 3,
    "start_time": "2023-02-10T20:54:52.764Z"
   },
   {
    "duration": 3,
    "start_time": "2023-02-10T20:55:04.123Z"
   },
   {
    "duration": 4,
    "start_time": "2023-02-10T20:59:32.658Z"
   },
   {
    "duration": 119,
    "start_time": "2023-02-10T20:59:44.826Z"
   },
   {
    "duration": 10,
    "start_time": "2023-02-10T20:59:49.365Z"
   },
   {
    "duration": 11,
    "start_time": "2023-02-10T20:59:54.823Z"
   },
   {
    "duration": 53,
    "start_time": "2023-02-10T21:01:25.628Z"
   },
   {
    "duration": 38,
    "start_time": "2023-02-10T21:02:11.303Z"
   },
   {
    "duration": 11,
    "start_time": "2023-02-10T21:02:20.278Z"
   },
   {
    "duration": 4,
    "start_time": "2023-02-10T21:02:45.701Z"
   },
   {
    "duration": 4,
    "start_time": "2023-02-10T21:05:07.600Z"
   },
   {
    "duration": 5,
    "start_time": "2023-02-10T21:11:35.408Z"
   },
   {
    "duration": 4,
    "start_time": "2023-02-10T21:31:19.745Z"
   },
   {
    "duration": 4,
    "start_time": "2023-02-10T21:31:28.722Z"
   },
   {
    "duration": 4,
    "start_time": "2023-02-10T21:31:40.007Z"
   },
   {
    "duration": 10,
    "start_time": "2023-02-10T21:33:08.577Z"
   },
   {
    "duration": 4,
    "start_time": "2023-02-10T21:33:33.003Z"
   },
   {
    "duration": 3,
    "start_time": "2023-02-10T21:39:06.542Z"
   },
   {
    "duration": 4,
    "start_time": "2023-02-10T21:39:21.030Z"
   },
   {
    "duration": 3,
    "start_time": "2023-02-10T21:39:28.614Z"
   },
   {
    "duration": 4,
    "start_time": "2023-02-10T21:39:34.732Z"
   },
   {
    "duration": 4,
    "start_time": "2023-02-10T21:39:50.506Z"
   },
   {
    "duration": 5,
    "start_time": "2023-02-10T21:40:23.300Z"
   },
   {
    "duration": 4,
    "start_time": "2023-02-10T21:40:42.133Z"
   },
   {
    "duration": 4,
    "start_time": "2023-02-10T21:40:46.239Z"
   },
   {
    "duration": 4,
    "start_time": "2023-02-10T22:11:02.201Z"
   },
   {
    "duration": 5,
    "start_time": "2023-02-10T22:11:17.602Z"
   },
   {
    "duration": 5,
    "start_time": "2023-02-10T22:11:50.887Z"
   },
   {
    "duration": 5,
    "start_time": "2023-02-10T22:15:03.174Z"
   },
   {
    "duration": 390,
    "start_time": "2023-02-10T22:15:04.030Z"
   },
   {
    "duration": 246,
    "start_time": "2023-02-10T22:15:15.277Z"
   },
   {
    "duration": 4,
    "start_time": "2023-02-10T22:15:24.268Z"
   },
   {
    "duration": 4,
    "start_time": "2023-02-10T22:15:28.452Z"
   },
   {
    "duration": 49,
    "start_time": "2023-02-10T22:26:47.175Z"
   },
   {
    "duration": 5,
    "start_time": "2023-02-10T22:26:51.270Z"
   },
   {
    "duration": 5,
    "start_time": "2023-02-10T22:29:57.775Z"
   },
   {
    "duration": 342,
    "start_time": "2023-02-10T22:29:58.975Z"
   },
   {
    "duration": 5,
    "start_time": "2023-02-10T22:30:34.290Z"
   },
   {
    "duration": 363,
    "start_time": "2023-02-10T22:30:35.562Z"
   },
   {
    "duration": 335,
    "start_time": "2023-02-10T22:30:53.978Z"
   },
   {
    "duration": 430,
    "start_time": "2023-02-10T22:34:01.586Z"
   },
   {
    "duration": 407,
    "start_time": "2023-02-10T22:34:03.409Z"
   },
   {
    "duration": 5,
    "start_time": "2023-02-10T22:55:31.011Z"
   },
   {
    "duration": 2,
    "start_time": "2023-02-10T22:58:06.271Z"
   },
   {
    "duration": 5,
    "start_time": "2023-02-10T23:00:07.012Z"
   },
   {
    "duration": 340,
    "start_time": "2023-02-10T23:00:07.883Z"
   },
   {
    "duration": 476,
    "start_time": "2023-02-10T23:01:13.334Z"
   },
   {
    "duration": 9,
    "start_time": "2023-02-10T23:01:52.318Z"
   },
   {
    "duration": 8,
    "start_time": "2023-02-10T23:07:34.000Z"
   },
   {
    "duration": 7,
    "start_time": "2023-02-10T23:07:44.149Z"
   },
   {
    "duration": 3,
    "start_time": "2023-02-10T23:08:56.239Z"
   },
   {
    "duration": 8,
    "start_time": "2023-02-10T23:08:56.989Z"
   },
   {
    "duration": 9,
    "start_time": "2023-02-10T23:16:25.325Z"
   },
   {
    "duration": 18,
    "start_time": "2023-02-10T23:17:19.526Z"
   },
   {
    "duration": 12,
    "start_time": "2023-02-10T23:29:55.346Z"
   },
   {
    "duration": 15,
    "start_time": "2023-02-10T23:32:14.509Z"
   },
   {
    "duration": 1274,
    "start_time": "2023-02-10T23:32:21.701Z"
   },
   {
    "duration": 433,
    "start_time": "2023-02-10T23:32:22.978Z"
   },
   {
    "duration": 11,
    "start_time": "2023-02-10T23:32:23.413Z"
   },
   {
    "duration": 28,
    "start_time": "2023-02-10T23:32:23.426Z"
   },
   {
    "duration": 155,
    "start_time": "2023-02-10T23:32:23.456Z"
   },
   {
    "duration": 48,
    "start_time": "2023-02-10T23:32:23.613Z"
   },
   {
    "duration": 803,
    "start_time": "2023-02-10T23:32:23.663Z"
   },
   {
    "duration": 5,
    "start_time": "2023-02-10T23:32:24.468Z"
   },
   {
    "duration": 540,
    "start_time": "2023-02-10T23:32:24.474Z"
   },
   {
    "duration": 501,
    "start_time": "2023-02-10T23:32:25.017Z"
   },
   {
    "duration": 93,
    "start_time": "2023-02-10T23:32:25.522Z"
   },
   {
    "duration": 95,
    "start_time": "2023-02-10T23:32:25.619Z"
   },
   {
    "duration": 19,
    "start_time": "2023-02-10T23:32:25.716Z"
   },
   {
    "duration": 1078,
    "start_time": "2023-02-10T23:32:25.736Z"
   },
   {
    "duration": 2685,
    "start_time": "2023-02-10T23:32:39.146Z"
   },
   {
    "duration": 2678,
    "start_time": "2023-02-10T23:33:34.944Z"
   },
   {
    "duration": 2633,
    "start_time": "2023-02-10T23:35:47.900Z"
   },
   {
    "duration": 2699,
    "start_time": "2023-02-10T23:35:58.988Z"
   },
   {
    "duration": 2664,
    "start_time": "2023-02-10T23:36:19.046Z"
   },
   {
    "duration": 2696,
    "start_time": "2023-02-10T23:37:53.434Z"
   },
   {
    "duration": 2702,
    "start_time": "2023-02-10T23:40:14.342Z"
   },
   {
    "duration": 2694,
    "start_time": "2023-02-10T23:40:34.497Z"
   },
   {
    "duration": 54,
    "start_time": "2023-02-10T23:42:13.352Z"
   },
   {
    "duration": 2712,
    "start_time": "2023-02-10T23:42:21.871Z"
   },
   {
    "duration": 2694,
    "start_time": "2023-02-10T23:43:02.211Z"
   },
   {
    "duration": 2683,
    "start_time": "2023-02-10T23:44:29.084Z"
   },
   {
    "duration": 2699,
    "start_time": "2023-02-10T23:44:56.557Z"
   },
   {
    "duration": 2718,
    "start_time": "2023-02-10T23:50:01.193Z"
   },
   {
    "duration": 2720,
    "start_time": "2023-02-10T23:50:14.782Z"
   },
   {
    "duration": 2652,
    "start_time": "2023-02-10T23:56:15.808Z"
   },
   {
    "duration": 2685,
    "start_time": "2023-02-10T23:56:43.308Z"
   },
   {
    "duration": 1285,
    "start_time": "2023-02-10T23:58:22.883Z"
   },
   {
    "duration": 387,
    "start_time": "2023-02-10T23:58:24.170Z"
   },
   {
    "duration": 11,
    "start_time": "2023-02-10T23:58:24.559Z"
   },
   {
    "duration": 43,
    "start_time": "2023-02-10T23:58:24.571Z"
   },
   {
    "duration": 135,
    "start_time": "2023-02-10T23:58:24.616Z"
   },
   {
    "duration": 61,
    "start_time": "2023-02-10T23:58:24.753Z"
   },
   {
    "duration": 795,
    "start_time": "2023-02-10T23:58:24.816Z"
   },
   {
    "duration": 5,
    "start_time": "2023-02-10T23:58:25.613Z"
   },
   {
    "duration": 591,
    "start_time": "2023-02-10T23:58:25.619Z"
   },
   {
    "duration": 417,
    "start_time": "2023-02-10T23:58:26.212Z"
   },
   {
    "duration": 84,
    "start_time": "2023-02-10T23:58:26.631Z"
   },
   {
    "duration": 98,
    "start_time": "2023-02-10T23:58:26.717Z"
   },
   {
    "duration": 18,
    "start_time": "2023-02-10T23:58:26.817Z"
   },
   {
    "duration": 2678,
    "start_time": "2023-02-10T23:58:26.837Z"
   },
   {
    "duration": 1282,
    "start_time": "2023-02-11T00:13:19.092Z"
   },
   {
    "duration": 391,
    "start_time": "2023-02-11T00:13:20.376Z"
   },
   {
    "duration": 11,
    "start_time": "2023-02-11T00:13:20.769Z"
   },
   {
    "duration": 39,
    "start_time": "2023-02-11T00:13:20.782Z"
   },
   {
    "duration": 131,
    "start_time": "2023-02-11T00:13:20.822Z"
   },
   {
    "duration": 59,
    "start_time": "2023-02-11T00:13:20.955Z"
   },
   {
    "duration": 802,
    "start_time": "2023-02-11T00:13:21.016Z"
   },
   {
    "duration": 6,
    "start_time": "2023-02-11T00:13:21.820Z"
   },
   {
    "duration": 491,
    "start_time": "2023-02-11T00:13:21.828Z"
   },
   {
    "duration": 506,
    "start_time": "2023-02-11T00:13:22.412Z"
   },
   {
    "duration": 99,
    "start_time": "2023-02-11T00:13:22.920Z"
   },
   {
    "duration": 6,
    "start_time": "2023-02-11T00:13:23.109Z"
   },
   {
    "duration": 18,
    "start_time": "2023-02-11T00:13:23.116Z"
   },
   {
    "duration": 2716,
    "start_time": "2023-02-11T00:13:23.136Z"
   },
   {
    "duration": 2167,
    "start_time": "2023-02-11T20:03:32.051Z"
   },
   {
    "duration": 1765,
    "start_time": "2023-02-11T20:03:34.220Z"
   },
   {
    "duration": 11,
    "start_time": "2023-02-11T20:03:35.987Z"
   },
   {
    "duration": 29,
    "start_time": "2023-02-11T20:03:36.000Z"
   },
   {
    "duration": 180,
    "start_time": "2023-02-11T20:03:36.031Z"
   },
   {
    "duration": 86,
    "start_time": "2023-02-11T20:03:36.214Z"
   },
   {
    "duration": 987,
    "start_time": "2023-02-11T20:03:36.302Z"
   },
   {
    "duration": 6,
    "start_time": "2023-02-11T20:03:37.292Z"
   },
   {
    "duration": 572,
    "start_time": "2023-02-11T20:03:37.300Z"
   },
   {
    "duration": 524,
    "start_time": "2023-02-11T20:03:37.874Z"
   },
   {
    "duration": 87,
    "start_time": "2023-02-11T20:03:38.400Z"
   },
   {
    "duration": 96,
    "start_time": "2023-02-11T20:03:38.490Z"
   },
   {
    "duration": 22,
    "start_time": "2023-02-11T20:03:38.588Z"
   },
   {
    "duration": 3527,
    "start_time": "2023-02-11T20:03:38.613Z"
   },
   {
    "duration": 44,
    "start_time": "2023-02-13T09:17:39.839Z"
   },
   {
    "duration": 1471,
    "start_time": "2023-02-13T09:17:55.631Z"
   },
   {
    "duration": 1538,
    "start_time": "2023-02-13T09:17:57.104Z"
   },
   {
    "duration": 11,
    "start_time": "2023-02-13T09:17:58.644Z"
   },
   {
    "duration": 28,
    "start_time": "2023-02-13T09:17:58.657Z"
   },
   {
    "duration": 126,
    "start_time": "2023-02-13T09:17:58.687Z"
   },
   {
    "duration": 57,
    "start_time": "2023-02-13T09:17:58.814Z"
   },
   {
    "duration": 792,
    "start_time": "2023-02-13T09:17:58.872Z"
   },
   {
    "duration": 4,
    "start_time": "2023-02-13T09:17:59.666Z"
   },
   {
    "duration": 486,
    "start_time": "2023-02-13T09:17:59.672Z"
   },
   {
    "duration": 690,
    "start_time": "2023-02-13T09:18:00.160Z"
   },
   {
    "duration": 95,
    "start_time": "2023-02-13T09:18:00.855Z"
   },
   {
    "duration": 36,
    "start_time": "2023-02-13T09:18:00.952Z"
   },
   {
    "duration": 46,
    "start_time": "2023-02-13T09:18:00.989Z"
   },
   {
    "duration": 3178,
    "start_time": "2023-02-13T09:18:01.037Z"
   },
   {
    "duration": 70,
    "start_time": "2023-02-13T09:21:58.532Z"
   },
   {
    "duration": 508,
    "start_time": "2023-02-13T09:22:41.113Z"
   },
   {
    "duration": 375,
    "start_time": "2023-02-13T09:25:31.751Z"
   },
   {
    "duration": 365,
    "start_time": "2023-02-13T09:25:38.940Z"
   },
   {
    "duration": 365,
    "start_time": "2023-02-13T09:25:47.569Z"
   },
   {
    "duration": 385,
    "start_time": "2023-02-13T09:25:59.068Z"
   },
   {
    "duration": 365,
    "start_time": "2023-02-13T09:26:59.400Z"
   },
   {
    "duration": 374,
    "start_time": "2023-02-13T09:27:20.170Z"
   },
   {
    "duration": 408,
    "start_time": "2023-02-13T09:34:35.213Z"
   },
   {
    "duration": 359,
    "start_time": "2023-02-13T09:38:06.362Z"
   },
   {
    "duration": 423,
    "start_time": "2023-02-13T09:42:43.090Z"
   },
   {
    "duration": 380,
    "start_time": "2023-02-13T09:46:24.232Z"
   },
   {
    "duration": 42,
    "start_time": "2023-02-13T09:51:07.788Z"
   },
   {
    "duration": 145,
    "start_time": "2023-02-13T09:55:24.401Z"
   },
   {
    "duration": 47,
    "start_time": "2023-02-13T09:55:35.668Z"
   },
   {
    "duration": 1377,
    "start_time": "2023-02-13T09:55:53.168Z"
   },
   {
    "duration": 475,
    "start_time": "2023-02-13T09:55:54.549Z"
   },
   {
    "duration": 12,
    "start_time": "2023-02-13T09:55:55.026Z"
   },
   {
    "duration": 69,
    "start_time": "2023-02-13T09:55:55.048Z"
   },
   {
    "duration": 164,
    "start_time": "2023-02-13T09:55:55.119Z"
   },
   {
    "duration": 63,
    "start_time": "2023-02-13T09:55:55.285Z"
   },
   {
    "duration": 204,
    "start_time": "2023-02-13T09:55:55.354Z"
   },
   {
    "duration": 46,
    "start_time": "2023-02-13T09:55:55.561Z"
   },
   {
    "duration": 69,
    "start_time": "2023-02-13T09:55:55.609Z"
   },
   {
    "duration": 964,
    "start_time": "2023-02-13T09:55:55.679Z"
   },
   {
    "duration": 16,
    "start_time": "2023-02-13T09:55:56.654Z"
   },
   {
    "duration": 676,
    "start_time": "2023-02-13T09:55:56.672Z"
   },
   {
    "duration": 412,
    "start_time": "2023-02-13T09:55:57.351Z"
   },
   {
    "duration": 10,
    "start_time": "2023-02-13T09:55:57.766Z"
   },
   {
    "duration": 31,
    "start_time": "2023-02-13T09:55:57.849Z"
   },
   {
    "duration": 24,
    "start_time": "2023-02-13T09:55:57.882Z"
   },
   {
    "duration": 4023,
    "start_time": "2023-02-13T09:55:57.909Z"
   },
   {
    "duration": 165,
    "start_time": "2023-02-13T09:56:34.636Z"
   },
   {
    "duration": 57,
    "start_time": "2023-02-13T09:56:35.514Z"
   },
   {
    "duration": 36,
    "start_time": "2023-02-13T09:56:38.303Z"
   },
   {
    "duration": 173,
    "start_time": "2023-02-13T09:56:38.991Z"
   },
   {
    "duration": 36,
    "start_time": "2023-02-13T09:56:39.647Z"
   },
   {
    "duration": 59,
    "start_time": "2023-02-13T09:56:59.004Z"
   },
   {
    "duration": 37,
    "start_time": "2023-02-13T09:56:59.713Z"
   },
   {
    "duration": 13,
    "start_time": "2023-02-13T09:58:50.527Z"
   },
   {
    "duration": 122,
    "start_time": "2023-02-13T09:58:58.233Z"
   },
   {
    "duration": 48,
    "start_time": "2023-02-13T09:58:58.817Z"
   },
   {
    "duration": 14,
    "start_time": "2023-02-13T09:58:59.449Z"
   },
   {
    "duration": 35,
    "start_time": "2023-02-13T10:00:24.059Z"
   },
   {
    "duration": 122,
    "start_time": "2023-02-13T10:00:24.789Z"
   },
   {
    "duration": 33,
    "start_time": "2023-02-13T10:00:34.452Z"
   },
   {
    "duration": 43,
    "start_time": "2023-02-13T10:01:49.524Z"
   },
   {
    "duration": 16,
    "start_time": "2023-02-13T10:01:50.008Z"
   },
   {
    "duration": 37,
    "start_time": "2023-02-13T10:09:23.843Z"
   },
   {
    "duration": 113,
    "start_time": "2023-02-13T10:09:24.606Z"
   },
   {
    "duration": 9,
    "start_time": "2023-02-13T10:09:25.454Z"
   },
   {
    "duration": 34,
    "start_time": "2023-02-13T10:09:26.657Z"
   },
   {
    "duration": 127,
    "start_time": "2023-02-13T10:09:27.532Z"
   },
   {
    "duration": 33,
    "start_time": "2023-02-13T10:10:16.923Z"
   },
   {
    "duration": 41,
    "start_time": "2023-02-13T10:10:17.630Z"
   },
   {
    "duration": 33,
    "start_time": "2023-02-13T10:10:18.178Z"
   },
   {
    "duration": 51,
    "start_time": "2023-02-13T10:11:52.366Z"
   },
   {
    "duration": 33,
    "start_time": "2023-02-13T10:12:01.053Z"
   },
   {
    "duration": 114,
    "start_time": "2023-02-13T10:12:32.912Z"
   },
   {
    "duration": 31,
    "start_time": "2023-02-13T10:12:38.998Z"
   },
   {
    "duration": 15,
    "start_time": "2023-02-13T10:12:40.090Z"
   },
   {
    "duration": 65,
    "start_time": "2023-02-13T10:12:59.865Z"
   },
   {
    "duration": 36,
    "start_time": "2023-02-13T10:13:02.565Z"
   },
   {
    "duration": 45,
    "start_time": "2023-02-13T10:14:05.097Z"
   },
   {
    "duration": 32,
    "start_time": "2023-02-13T10:14:05.624Z"
   },
   {
    "duration": 38,
    "start_time": "2023-02-13T10:14:08.331Z"
   },
   {
    "duration": 48,
    "start_time": "2023-02-13T10:14:08.975Z"
   },
   {
    "duration": 31,
    "start_time": "2023-02-13T10:14:09.548Z"
   },
   {
    "duration": 52,
    "start_time": "2023-02-13T10:15:21.390Z"
   },
   {
    "duration": 174,
    "start_time": "2023-02-13T10:15:33.677Z"
   },
   {
    "duration": 34,
    "start_time": "2023-02-13T10:15:34.228Z"
   },
   {
    "duration": 65,
    "start_time": "2023-02-13T10:16:23.535Z"
   },
   {
    "duration": 37,
    "start_time": "2023-02-13T10:16:23.907Z"
   },
   {
    "duration": 1475,
    "start_time": "2023-02-13T10:19:33.956Z"
   },
   {
    "duration": 467,
    "start_time": "2023-02-13T10:19:35.434Z"
   },
   {
    "duration": 67,
    "start_time": "2023-02-13T10:19:35.903Z"
   },
   {
    "duration": 58,
    "start_time": "2023-02-13T10:19:35.972Z"
   },
   {
    "duration": 17,
    "start_time": "2023-02-13T10:19:36.031Z"
   },
   {
    "duration": 44,
    "start_time": "2023-02-13T10:19:36.050Z"
   },
   {
    "duration": 157,
    "start_time": "2023-02-13T10:19:36.095Z"
   },
   {
    "duration": 43,
    "start_time": "2023-02-13T10:19:36.254Z"
   },
   {
    "duration": 853,
    "start_time": "2023-02-13T10:19:36.299Z"
   },
   {
    "duration": 5,
    "start_time": "2023-02-13T10:19:37.154Z"
   },
   {
    "duration": 502,
    "start_time": "2023-02-13T10:19:37.161Z"
   },
   {
    "duration": 511,
    "start_time": "2023-02-13T10:19:37.749Z"
   },
   {
    "duration": 89,
    "start_time": "2023-02-13T10:19:38.262Z"
   },
   {
    "duration": 102,
    "start_time": "2023-02-13T10:19:38.353Z"
   },
   {
    "duration": 29,
    "start_time": "2023-02-13T10:19:38.457Z"
   },
   {
    "duration": 3216,
    "start_time": "2023-02-13T10:19:38.488Z"
   },
   {
    "duration": 52,
    "start_time": "2023-02-13T10:20:33.724Z"
   },
   {
    "duration": 4,
    "start_time": "2023-02-13T10:25:10.362Z"
   },
   {
    "duration": 1452,
    "start_time": "2023-02-13T10:29:04.731Z"
   },
   {
    "duration": 488,
    "start_time": "2023-02-13T10:29:06.185Z"
   },
   {
    "duration": 42,
    "start_time": "2023-02-13T10:29:06.675Z"
   },
   {
    "duration": 66,
    "start_time": "2023-02-13T10:29:06.719Z"
   },
   {
    "duration": 15,
    "start_time": "2023-02-13T10:29:06.788Z"
   },
   {
    "duration": 54,
    "start_time": "2023-02-13T10:29:06.804Z"
   },
   {
    "duration": 145,
    "start_time": "2023-02-13T10:29:06.859Z"
   },
   {
    "duration": 64,
    "start_time": "2023-02-13T10:29:07.006Z"
   },
   {
    "duration": 942,
    "start_time": "2023-02-13T10:29:07.072Z"
   },
   {
    "duration": 7,
    "start_time": "2023-02-13T10:29:08.016Z"
   },
   {
    "duration": 540,
    "start_time": "2023-02-13T10:29:08.026Z"
   },
   {
    "duration": 579,
    "start_time": "2023-02-13T10:29:08.569Z"
   },
   {
    "duration": 7,
    "start_time": "2023-02-13T10:29:09.151Z"
   },
   {
    "duration": 95,
    "start_time": "2023-02-13T10:29:09.162Z"
   },
   {
    "duration": 24,
    "start_time": "2023-02-13T10:29:09.259Z"
   },
   {
    "duration": 3127,
    "start_time": "2023-02-13T10:29:09.284Z"
   },
   {
    "duration": 45,
    "start_time": "2023-02-20T13:38:58.669Z"
   },
   {
    "duration": 7,
    "start_time": "2023-02-20T13:39:10.579Z"
   },
   {
    "duration": 1358,
    "start_time": "2023-02-20T13:39:15.360Z"
   },
   {
    "duration": 1506,
    "start_time": "2023-02-20T13:39:16.720Z"
   },
   {
    "duration": 43,
    "start_time": "2023-02-20T13:39:18.227Z"
   },
   {
    "duration": 62,
    "start_time": "2023-02-20T13:39:18.272Z"
   },
   {
    "duration": 11,
    "start_time": "2023-02-20T13:39:18.335Z"
   },
   {
    "duration": 45,
    "start_time": "2023-02-20T13:39:18.349Z"
   },
   {
    "duration": 162,
    "start_time": "2023-02-20T13:39:18.396Z"
   },
   {
    "duration": 58,
    "start_time": "2023-02-20T13:39:18.560Z"
   },
   {
    "duration": 830,
    "start_time": "2023-02-20T13:39:18.619Z"
   },
   {
    "duration": 5,
    "start_time": "2023-02-20T13:39:19.452Z"
   },
   {
    "duration": 542,
    "start_time": "2023-02-20T13:39:19.458Z"
   },
   {
    "duration": 605,
    "start_time": "2023-02-20T13:39:20.002Z"
   },
   {
    "duration": 7,
    "start_time": "2023-02-20T13:39:20.692Z"
   },
   {
    "duration": 97,
    "start_time": "2023-02-20T13:39:20.701Z"
   },
   {
    "duration": 21,
    "start_time": "2023-02-20T13:39:20.799Z"
   },
   {
    "duration": 3128,
    "start_time": "2023-02-20T13:39:20.821Z"
   }
  ],
  "kernelspec": {
   "display_name": "Python 3 (ipykernel)",
   "language": "python",
   "name": "python3"
  },
  "language_info": {
   "codemirror_mode": {
    "name": "ipython",
    "version": 3
   },
   "file_extension": ".py",
   "mimetype": "text/x-python",
   "name": "python",
   "nbconvert_exporter": "python",
   "pygments_lexer": "ipython3",
   "version": "3.11.6"
  },
  "toc": {
   "base_numbering": 1,
   "nav_menu": {},
   "number_sections": true,
   "sideBar": true,
   "skip_h1_title": true,
   "title_cell": "Table of Contents",
   "title_sidebar": "Contents",
   "toc_cell": false,
   "toc_position": {},
   "toc_section_display": true,
   "toc_window_display": false
  }
 },
 "nbformat": 4,
 "nbformat_minor": 4
}
